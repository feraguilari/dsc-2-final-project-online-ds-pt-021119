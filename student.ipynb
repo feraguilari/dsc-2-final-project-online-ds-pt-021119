{
 "cells": [
  {
   "cell_type": "markdown",
   "metadata": {},
   "source": [
    "# Module 2 Final Project Submission\n",
    "### SQL EDA and Hypothesis Testing\n",
    "\n",
    "Student name: Fernando Aguilar Islas<br>\n",
    "Student pace: Part Time<br>\n",
    "Scheduled project review date/time: TBA<br>\n",
    "Instructor name: Brandon Lewis<br>\n",
    "Blog post URL:<br>\n",
    "Video Walkthrough URL:<br>"
   ]
  },
  {
   "cell_type": "markdown",
   "metadata": {},
   "source": [
    "## 1. Introduction\n",
    "For this project I will solve relevant questions utilizing hypothesis testing and statistical analysis using information from the Northwind Database. The tables contain company's information about operating regions, suppliers, employees, clients, orders, and products. Below is the Entity Relationship Diagram (ERD) of the database I will be working with.<br>\n",
    "### Northwind's SQL Database\n",
    "\n",
    "<img src='Northwind_ERD.png'>"
   ]
  },
  {
   "cell_type": "markdown",
   "metadata": {},
   "source": [
    "## 2. Objective <br>\n",
    "\n",
    "The priority is to find startegies that will increase Northiwind's profits, hence, I will be looking into solutions that either increase revenue or cut down costs. The following questions will be answered thoruought the notebook, each with its own section stating its null and alternate hypothesis, and carrying out statistical testing to verify the significance of the findings. This will enable me to provide Northwind with relevant recommendations in how to improve their operations to obtain a higher profit.<br>\n",
    "\n",
    "1. **Do discounts have a statistically significant effect on the number of products customers order? If so, at what level(s) of discount?**\n",
    "3. **Are certain employees more productive than others?**\n",
    "4. **Do certain product categories have higher demand?**\n",
    "5. **Another great question?**<br>"
   ]
  },
  {
   "cell_type": "markdown",
   "metadata": {},
   "source": [
    "## 3. Methodology <br>\n",
    "Throughout the project, in order to answer each of the stated questions, I will extract the necessary data from the SQL database and perform hypothesis testing. I will perform parametric and/or non-parametric testing to find wether or not we can reject the null hypothesis with a given significance level. Since parametric testing relies on the assumption that the sample data has a specific distribution (usually Gaussian), I will start by testing this assumption using the Shapiro–Wilk test. Then, based on the results I will proceed with hypothesis testing accordingly, state the confidence level (Type I error), and arrive to conclusions to provide statistically significant recommendations. This recommendations have the goal of increasing revenues, decresing costs or identify unique areas of opportunity to increase profits.<br>\n",
    "\n",
    "Since the data is in an SLQ database I will start by loading all the necessary libraries to access, and retrieve the data into pandas dataframes for ease of manipulation. I will also load libraries to transform, and visualize data as well as the necessary tools to carry out EDA and hypothesis testing. After obtaining the necessary tools and establishing a connection to the database, I will go ahead and answer the first question."
   ]
  },
  {
   "cell_type": "code",
   "execution_count": 1,
   "metadata": {},
   "outputs": [],
   "source": [
    "#Import sql libraries to retrieve, manipulate and explore data from database.\n",
    "import sqlalchemy\n",
    "from sqlalchemy import create_engine\n",
    "from sqlalchemy.orm import Session, sessionmaker\n",
    "from sqlalchemy import inspect\n",
    "import sqlite3 as sql\n",
    "\n",
    "#Import tools for Exploratory Data Analysis (EDA)\n",
    "import pandas as pd\n",
    "import numpy as np\n",
    "\n",
    "#Import tools for data visualization\n",
    "import matplotlib.pyplot as plt\n",
    "import seaborn as sns\n",
    "%matplotlib inline\n",
    "\n",
    "#Import tools for hypothesis testing\n",
    "from scipy import stats\n",
    "import itertools\n",
    "import statsmodels.api as sm\n",
    "from statsmodels.formula.api import ols\n",
    "from sklearn.preprocessing import MinMaxScaler\n",
    "from sklearn.preprocessing import PowerTransformer\n",
    "\n",
    "#Helper functions for presentation purposes\n",
    "from ipywidgets import interact, interactive\n",
    "import warnings\n",
    "warnings.filterwarnings('ignore')"
   ]
  },
  {
   "cell_type": "code",
   "execution_count": 2,
   "metadata": {},
   "outputs": [
    {
     "name": "stdout",
     "output_type": "stream",
     "text": [
      "2019-06-07 15:41:16,832 INFO sqlalchemy.engine.base.Engine SELECT CAST('test plain returns' AS VARCHAR(60)) AS anon_1\n",
      "2019-06-07 15:41:16,833 INFO sqlalchemy.engine.base.Engine ()\n",
      "2019-06-07 15:41:16,833 INFO sqlalchemy.engine.base.Engine SELECT CAST('test unicode returns' AS VARCHAR(60)) AS anon_1\n",
      "2019-06-07 15:41:16,834 INFO sqlalchemy.engine.base.Engine ()\n"
     ]
    }
   ],
   "source": [
    "#Create engine, session and inspector to access and retrieve data in the database.\n",
    "engine = create_engine(\"sqlite:///Northwind_small.sqlite\", echo=True)\n",
    "Session = sessionmaker(bind=engine)\n",
    "session = Session()\n",
    "inspector = inspect(engine)"
   ]
  },
  {
   "cell_type": "code",
   "execution_count": 3,
   "metadata": {},
   "outputs": [
    {
     "name": "stdout",
     "output_type": "stream",
     "text": [
      "2019-06-07 15:41:16,839 INFO sqlalchemy.engine.base.Engine SELECT name FROM sqlite_master WHERE type='table' ORDER BY name\n",
      "2019-06-07 15:41:16,840 INFO sqlalchemy.engine.base.Engine ()\n"
     ]
    },
    {
     "data": {
      "text/plain": [
       "['Category',\n",
       " 'Customer',\n",
       " 'CustomerCustomerDemo',\n",
       " 'CustomerDemographic',\n",
       " 'Employee',\n",
       " 'EmployeeTerritory',\n",
       " 'Order',\n",
       " 'OrderDetail',\n",
       " 'Product',\n",
       " 'Region',\n",
       " 'Shipper',\n",
       " 'Supplier',\n",
       " 'Territory']"
      ]
     },
     "execution_count": 3,
     "metadata": {},
     "output_type": "execute_result"
    }
   ],
   "source": [
    "'''Often times, actual table and column names differ to the ones in the ERD.\n",
    "Hence, it is helpfull to get the table names form the actual database to\n",
    "avoid errors during the retreival of data and EDA.'''\n",
    "# Obtain and store the names of tables in database as as list.\n",
    "db_tables=inspector.get_table_names()\n",
    "db_tables"
   ]
  },
  {
   "cell_type": "code",
   "execution_count": 4,
   "metadata": {},
   "outputs": [
    {
     "name": "stdout",
     "output_type": "stream",
     "text": [
      "2019-06-07 15:41:16,849 INFO sqlalchemy.engine.base.Engine SELECT * FROM [Category] Limit 5\n",
      "2019-06-07 15:41:16,850 INFO sqlalchemy.engine.base.Engine ()\n",
      "Table:  Category\n",
      "   Id    CategoryName                                        Description\n",
      "0   1       Beverages        Soft drinks, coffees, teas, beers, and ales\n",
      "1   2      Condiments  Sweet and savory sauces, relishes, spreads, an...\n",
      "2   3     Confections                Desserts, candies, and sweet breads\n",
      "3   4  Dairy Products                                            Cheeses\n",
      "4   5  Grains/Cereals                Breads, crackers, pasta, and cereal \n",
      "\n",
      "2019-06-07 15:41:16,855 INFO sqlalchemy.engine.base.Engine SELECT * FROM [Customer] Limit 5\n",
      "2019-06-07 15:41:16,855 INFO sqlalchemy.engine.base.Engine ()\n",
      "Table:  Customer\n",
      "      Id                         CompanyName         ContactName  \\\n",
      "0  ALFKI                 Alfreds Futterkiste        Maria Anders   \n",
      "1  ANATR  Ana Trujillo Emparedados y helados        Ana Trujillo   \n",
      "2  ANTON             Antonio Moreno Taquería      Antonio Moreno   \n",
      "3  AROUT                     Around the Horn        Thomas Hardy   \n",
      "4  BERGS                  Berglunds snabbköp  Christina Berglund   \n",
      "\n",
      "           ContactTitle                        Address         City  \\\n",
      "0  Sales Representative                  Obere Str. 57       Berlin   \n",
      "1                 Owner  Avda. de la Constitución 2222  México D.F.   \n",
      "2                 Owner                Mataderos  2312  México D.F.   \n",
      "3  Sales Representative                120 Hanover Sq.       London   \n",
      "4   Order Administrator                Berguvsvägen  8        Luleå   \n",
      "\n",
      "            Region PostalCode  Country           Phone             Fax  \n",
      "0   Western Europe      12209  Germany     030-0074321     030-0076545  \n",
      "1  Central America      05021   Mexico    (5) 555-4729    (5) 555-3745  \n",
      "2  Central America      05023   Mexico    (5) 555-3932            None  \n",
      "3    British Isles    WA1 1DP       UK  (171) 555-7788  (171) 555-6750  \n",
      "4  Northern Europe   S-958 22   Sweden   0921-12 34 65   0921-12 34 67   \n",
      "\n",
      "2019-06-07 15:41:16,864 INFO sqlalchemy.engine.base.Engine SELECT * FROM [CustomerCustomerDemo] Limit 5\n",
      "2019-06-07 15:41:16,865 INFO sqlalchemy.engine.base.Engine ()\n",
      "Table:  CustomerCustomerDemo\n",
      "Empty DataFrame\n",
      "Columns: [Id, CustomerTypeId]\n",
      "Index: [] \n",
      "\n",
      "2019-06-07 15:41:16,870 INFO sqlalchemy.engine.base.Engine SELECT * FROM [CustomerDemographic] Limit 5\n",
      "2019-06-07 15:41:16,871 INFO sqlalchemy.engine.base.Engine ()\n",
      "Table:  CustomerDemographic\n",
      "Empty DataFrame\n",
      "Columns: [Id, CustomerDesc]\n",
      "Index: [] \n",
      "\n",
      "2019-06-07 15:41:16,874 INFO sqlalchemy.engine.base.Engine SELECT * FROM [Employee] Limit 5\n",
      "2019-06-07 15:41:16,874 INFO sqlalchemy.engine.base.Engine ()\n",
      "Table:  Employee\n",
      "   Id   LastName FirstName                  Title TitleOfCourtesy   BirthDate  \\\n",
      "0   1    Davolio     Nancy   Sales Representative             Ms.  1980-12-08   \n",
      "1   2     Fuller    Andrew  Vice President, Sales             Dr.  1984-02-19   \n",
      "2   3  Leverling     Janet   Sales Representative             Ms.  1995-08-30   \n",
      "3   4    Peacock  Margaret   Sales Representative            Mrs.  1969-09-19   \n",
      "4   5   Buchanan    Steven          Sales Manager             Mr.  1987-03-04   \n",
      "\n",
      "     HireDate                     Address      City         Region PostalCode  \\\n",
      "0  2024-05-01  507 - 20th Ave. E. Apt. 2A   Seattle  North America      98122   \n",
      "1  2024-08-14          908 W. Capital Way    Tacoma  North America      98401   \n",
      "2  2024-04-01          722 Moss Bay Blvd.  Kirkland  North America      98033   \n",
      "3  2025-05-03        4110 Old Redmond Rd.   Redmond  North America      98052   \n",
      "4  2025-10-17             14 Garrett Hill    London  British Isles    SW1 8JR   \n",
      "\n",
      "  Country       HomePhone Extension Photo  \\\n",
      "0     USA  (206) 555-9857      5467  None   \n",
      "1     USA  (206) 555-9482      3457  None   \n",
      "2     USA  (206) 555-3412      3355  None   \n",
      "3     USA  (206) 555-8122      5176  None   \n",
      "4      UK   (71) 555-4848      3453  None   \n",
      "\n",
      "                                               Notes  ReportsTo  \\\n",
      "0  Education includes a BA in psychology from Col...        2.0   \n",
      "1  Andrew received his BTS commercial in 1974 and...        NaN   \n",
      "2  Janet has a BS degree in chemistry from Boston...        2.0   \n",
      "3  Margaret holds a BA in English literature from...        2.0   \n",
      "4  Steven Buchanan graduated from St. Andrews Uni...        2.0   \n",
      "\n",
      "                                PhotoPath  \n",
      "0    http://accweb/emmployees/davolio.bmp  \n",
      "1     http://accweb/emmployees/fuller.bmp  \n",
      "2  http://accweb/emmployees/leverling.bmp  \n",
      "3    http://accweb/emmployees/peacock.bmp  \n",
      "4   http://accweb/emmployees/buchanan.bmp   \n",
      "\n",
      "2019-06-07 15:41:16,887 INFO sqlalchemy.engine.base.Engine SELECT * FROM [EmployeeTerritory] Limit 5\n",
      "2019-06-07 15:41:16,887 INFO sqlalchemy.engine.base.Engine ()\n",
      "Table:  EmployeeTerritory\n",
      "        Id  EmployeeId TerritoryId\n",
      "0  1/06897           1       06897\n",
      "1  1/19713           1       19713\n",
      "2  2/01581           2       01581\n",
      "3  2/01730           2       01730\n",
      "4  2/01833           2       01833 \n",
      "\n",
      "2019-06-07 15:41:16,891 INFO sqlalchemy.engine.base.Engine SELECT * FROM [Order] Limit 5\n",
      "2019-06-07 15:41:16,891 INFO sqlalchemy.engine.base.Engine ()\n",
      "Table:  Order\n",
      "      Id CustomerId  EmployeeId   OrderDate RequiredDate ShippedDate  ShipVia  \\\n",
      "0  10248      VINET           5  2012-07-04   2012-08-01  2012-07-16        3   \n",
      "1  10249      TOMSP           6  2012-07-05   2012-08-16  2012-07-10        1   \n",
      "2  10250      HANAR           4  2012-07-08   2012-08-05  2012-07-12        2   \n",
      "3  10251      VICTE           3  2012-07-08   2012-08-05  2012-07-15        1   \n",
      "4  10252      SUPRD           4  2012-07-09   2012-08-06  2012-07-11        2   \n",
      "\n",
      "   Freight                   ShipName           ShipAddress        ShipCity  \\\n",
      "0    32.38  Vins et alcools Chevalier    59 rue de l'Abbaye           Reims   \n",
      "1    11.61         Toms Spezialitäten         Luisenstr. 48         Münster   \n",
      "2    65.83              Hanari Carnes       Rua do Paço, 67  Rio de Janeiro   \n",
      "3    41.34       Victuailles en stock    2, rue du Commerce            Lyon   \n",
      "4    51.30           Suprêmes délices  Boulevard Tirou, 255       Charleroi   \n",
      "\n",
      "       ShipRegion ShipPostalCode ShipCountry  \n",
      "0  Western Europe          51100      France  \n",
      "1  Western Europe          44087     Germany  \n",
      "2   South America      05454-876      Brazil  \n",
      "3  Western Europe          69004      France  \n",
      "4  Western Europe         B-6000     Belgium   \n",
      "\n",
      "2019-06-07 15:41:16,902 INFO sqlalchemy.engine.base.Engine SELECT * FROM [OrderDetail] Limit 5\n",
      "2019-06-07 15:41:16,902 INFO sqlalchemy.engine.base.Engine ()\n",
      "Table:  OrderDetail\n",
      "         Id  OrderId  ProductId  UnitPrice  Quantity  Discount\n",
      "0  10248/11    10248         11       14.0        12       0.0\n",
      "1  10248/42    10248         42        9.8        10       0.0\n",
      "2  10248/72    10248         72       34.8         5       0.0\n",
      "3  10249/14    10249         14       18.6         9       0.0\n",
      "4  10249/51    10249         51       42.4        40       0.0 \n",
      "\n",
      "2019-06-07 15:41:16,909 INFO sqlalchemy.engine.base.Engine SELECT * FROM [Product] Limit 5\n",
      "2019-06-07 15:41:16,910 INFO sqlalchemy.engine.base.Engine ()\n",
      "Table:  Product\n",
      "   Id                   ProductName  SupplierId  CategoryId  \\\n",
      "0   1                          Chai           1           1   \n",
      "1   2                         Chang           1           1   \n",
      "2   3                 Aniseed Syrup           1           2   \n",
      "3   4  Chef Anton's Cajun Seasoning           2           2   \n",
      "4   5        Chef Anton's Gumbo Mix           2           2   \n",
      "\n",
      "       QuantityPerUnit  UnitPrice  UnitsInStock  UnitsOnOrder  ReorderLevel  \\\n",
      "0   10 boxes x 20 bags      18.00            39             0            10   \n",
      "1   24 - 12 oz bottles      19.00            17            40            25   \n",
      "2  12 - 550 ml bottles      10.00            13            70            25   \n",
      "3       48 - 6 oz jars      22.00            53             0             0   \n",
      "4             36 boxes      21.35             0             0             0   \n",
      "\n",
      "   Discontinued  \n",
      "0             0  \n",
      "1             0  \n",
      "2             0  \n",
      "3             0  \n",
      "4             1   \n",
      "\n",
      "2019-06-07 15:41:16,920 INFO sqlalchemy.engine.base.Engine SELECT * FROM [Region] Limit 5\n"
     ]
    },
    {
     "name": "stdout",
     "output_type": "stream",
     "text": [
      "2019-06-07 15:41:16,920 INFO sqlalchemy.engine.base.Engine ()\n",
      "Table:  Region\n",
      "   Id RegionDescription\n",
      "0   1           Eastern\n",
      "1   2           Western\n",
      "2   3          Northern\n",
      "3   4          Southern \n",
      "\n",
      "2019-06-07 15:41:16,926 INFO sqlalchemy.engine.base.Engine SELECT * FROM [Shipper] Limit 5\n",
      "2019-06-07 15:41:16,926 INFO sqlalchemy.engine.base.Engine ()\n",
      "Table:  Shipper\n",
      "   Id       CompanyName           Phone\n",
      "0   1    Speedy Express  (503) 555-9831\n",
      "1   2    United Package  (503) 555-3199\n",
      "2   3  Federal Shipping  (503) 555-9931 \n",
      "\n",
      "2019-06-07 15:41:16,930 INFO sqlalchemy.engine.base.Engine SELECT * FROM [Supplier] Limit 5\n",
      "2019-06-07 15:41:16,931 INFO sqlalchemy.engine.base.Engine ()\n",
      "Table:  Supplier\n",
      "   Id                         CompanyName                 ContactName  \\\n",
      "0   1                      Exotic Liquids            Charlotte Cooper   \n",
      "1   2          New Orleans Cajun Delights               Shelley Burke   \n",
      "2   3           Grandma Kelly's Homestead               Regina Murphy   \n",
      "3   4                       Tokyo Traders                Yoshi Nagase   \n",
      "4   5  Cooperativa de Quesos 'Las Cabras'  Antonio del Valle Saavedra   \n",
      "\n",
      "           ContactTitle                    Address         City  \\\n",
      "0    Purchasing Manager             49 Gilbert St.       London   \n",
      "1   Order Administrator             P.O. Box 78934  New Orleans   \n",
      "2  Sales Representative             707 Oxford Rd.    Ann Arbor   \n",
      "3     Marketing Manager  9-8 Sekimai Musashino-shi        Tokyo   \n",
      "4  Export Administrator          Calle del Rosal 4       Oviedo   \n",
      "\n",
      "            Region PostalCode Country           Phone             Fax  \\\n",
      "0    British Isles    EC1 4SD      UK  (171) 555-2222            None   \n",
      "1    North America      70117     USA  (100) 555-4822            None   \n",
      "2    North America      48104     USA  (313) 555-5735  (313) 555-3349   \n",
      "3     Eastern Asia        100   Japan  (03) 3555-5011            None   \n",
      "4  Southern Europe      33007   Spain  (98) 598 76 54            None   \n",
      "\n",
      "      HomePage  \n",
      "0         None  \n",
      "1  #CAJUN.HTM#  \n",
      "2         None  \n",
      "3         None  \n",
      "4         None   \n",
      "\n",
      "2019-06-07 15:41:16,941 INFO sqlalchemy.engine.base.Engine SELECT * FROM [Territory] Limit 5\n",
      "2019-06-07 15:41:16,941 INFO sqlalchemy.engine.base.Engine ()\n",
      "Table:  Territory\n",
      "      Id TerritoryDescription  RegionId\n",
      "0  01581             Westboro         1\n",
      "1  01730              Bedford         1\n",
      "2  01833            Georgetow         1\n",
      "3  02116               Boston         1\n",
      "4  02139            Cambridge         1 \n",
      "\n"
     ]
    }
   ],
   "source": [
    "#Visualise first few lines of each table to get a sense of their contents.\n",
    "for table in db_tables:\n",
    "    df_sample = pd.read_sql_query(f\"SELECT * FROM [{table}] Limit 5\", engine)\n",
    "    print('Table: ', table)\n",
    "    print(df_sample,'\\n')"
   ]
  },
  {
   "cell_type": "markdown",
   "metadata": {},
   "source": [
    "### 3.1 Helper functions."
   ]
  },
  {
   "cell_type": "code",
   "execution_count": 66,
   "metadata": {},
   "outputs": [],
   "source": [
    "#Shapiro-Wilk test for normality\n",
    "def sw_test (data):\n",
    "    '''Null: Data is normally distributed\n",
    "    Alternate: Data is not normally distributed.\n",
    "    If p value < 0.05 then reject null.'''\n",
    "    if stats.shapiro(data)[1]<.05:\n",
    "        print('The sample is not normally distributed')\n",
    "        return stats.shapiro(data)\n",
    "    else:\n",
    "        print('The sample is normally distributed')\n",
    "        return stats.shapiro(data)\n",
    "\n",
    "#Welch's t-test\n",
    "def welch_t(a,b, equal_var=False,describe = True ):\n",
    "    #Calculate degrees of freedom\n",
    "    dof_num = (a.var()/a.size + b.var()/b.size)**2\n",
    "    dof_den =(a.var()/a.size)**2 / (a.size-1) + (b.var()/b.size)**2 / (b.size-1)\n",
    "    dof = dof_num/dof_den\n",
    "    #Perform Welch's t-test\n",
    "    test, p_val = stats.ttest_ind(a,b, equal_var = equal_var)\n",
    "    if describe:\n",
    "        print(f\"Welch's t-test = {test}\\np-value: {p_val}\\nDoF: {dof}\")\n",
    "        #Print decision.\n",
    "        if p_val<0.05:\n",
    "            print('Decision: Reject the null hypothesis')\n",
    "        else:\n",
    "            print('Decision: Fail to reject the null hypothesis')\n",
    "    return stats.ttest_ind(a,b, equal_var = False)\n",
    "\n",
    "#Cohen's d Effect size\n",
    "def cohen_d(a,b, describe = True):\n",
    "    a_n,b_n = len(a),len(b)\n",
    "    #Calculate pooled standard deviation.\n",
    "    pv_num = ((a_n-1)*a.var())+((b_n-1)*b.var())\n",
    "    pv_den = a_n+b_n\n",
    "    pooled_sd = np.sqrt(pv_num/pv_den)\n",
    "    d = (a.mean()-b.mean())/pooled_sd\n",
    "    if describe:\n",
    "        print(\"Cohens'd: \",d)\n",
    "        if d<0.20:\n",
    "            print('Effect Size: Very Small')\n",
    "        elif d<0.50:\n",
    "            print('Effect Size: Small')\n",
    "        elif d<0.80:\n",
    "            print('Effect Size: Medium')\n",
    "        else:\n",
    "            print('Effect Size: Large')\n",
    "    return d\n",
    "\n",
    "def plot_compare(a,b, title ='Quantities Ordered with and without discount',\n",
    "                labela = 'Discount offered', labelb='No discount'):\n",
    "    sns.distplot(a, label=labela, \n",
    "             color='blue', hist_kws=dict(alpha=.3))\n",
    "    sns.distplot(b, label=labelb,\n",
    "            color='orange', hist_kws=dict(alpha=.3))\n",
    "    plt.axvline(df_orderd.Quantity.mean(), 0,1, color='blue', \n",
    "            linestyle='--', label='Mean Quantity')\n",
    "    plt.axvline(df_ordernd.Quantity.mean(), 0,1, color='orange', \n",
    "            linestyle='--', label='Mean Quantity' )\n",
    "    plt.title(title)\n",
    "    plt.ylabel('frequency')\n",
    "    plt.legend()\n",
    "    plt.show();\n",
    "    print('Average quantity ordered with discount: ',round(a.mean()))\n",
    "    print('Average quantity ordered without discount: ',round(b.mean()))\n",
    "    print('Percentage increase by offering discount: ',\n",
    "          round((a.mean()-b.mean())/b.mean()*100, 2),'%')\n",
    "    \n",
    "def ANOVA(formula,data, decision=True):\n",
    "    lm = ols(formula,data).fit()\n",
    "    result = sm.stats.anova_lm(lm, typ=1)\n",
    "    if decision:\n",
    "        if result['PR(>F)'][0]>0.05:\n",
    "            print('Fail to reject the Null Hypothesis')\n",
    "        else:\n",
    "            print('Reject the Null Hypothesis')\n",
    "    return result"
   ]
  },
  {
   "cell_type": "markdown",
   "metadata": {},
   "source": [
    "## 4.  Do discounts have a statistically significant effect on the number of products customers order?<br>\n",
    "Discounts are very important in every business to drive sales. Hence, it is imperative to find out if discounts increase the quantities ordered in a statistically significant manner. The null and alternate hypothesis are:<br>\n",
    "\n",
    "> $H_{0}:$ *Discounts do not have an effect on the number of products ordered.*$\\mu_0 = \\mu1 $ <br> \n",
    "> $H_{1}:$ *Discounts have an effect on the number of products ordered.* $\\mu_0 \\neq \\mu1 $ <br>\n",
    "> Significance Level: $\\alpha = 0.05$ *Probability of a Type I error*<br>\n",
    "\n",
    "To conduct this hypothesis testing I will retrieve the required data from the OrderDetail table wich cointains infrormaton about quantities ordered and the discounts offered. "
   ]
  },
  {
   "cell_type": "code",
   "execution_count": 6,
   "metadata": {},
   "outputs": [
    {
     "name": "stdout",
     "output_type": "stream",
     "text": [
      "2019-06-07 15:41:16,975 INFO sqlalchemy.engine.base.Engine SELECT Quantity, Discount FROM [OrderDetail] WHERE Discount >0\n",
      "2019-06-07 15:41:16,976 INFO sqlalchemy.engine.base.Engine ()\n",
      "2019-06-07 15:41:16,984 INFO sqlalchemy.engine.base.Engine SELECT Quantity, Discount FROM [OrderDetail] WHERE Discount ==0\n",
      "2019-06-07 15:41:16,985 INFO sqlalchemy.engine.base.Engine ()\n",
      "<class 'pandas.core.frame.DataFrame'>\n",
      "RangeIndex: 838 entries, 0 to 837\n",
      "Data columns (total 2 columns):\n",
      "Quantity    838 non-null int64\n",
      "Discount    838 non-null float64\n",
      "dtypes: float64(1), int64(1)\n",
      "memory usage: 13.2 KB\n",
      "None\n",
      "<class 'pandas.core.frame.DataFrame'>\n",
      "RangeIndex: 1317 entries, 0 to 1316\n",
      "Data columns (total 2 columns):\n",
      "Quantity    1317 non-null int64\n",
      "Discount    1317 non-null float64\n",
      "dtypes: float64(1), int64(1)\n",
      "memory usage: 20.7 KB\n",
      "None \n",
      "\n",
      "         Quantity    Discount\n",
      "count  838.000000  838.000000\n",
      "mean    27.109785    0.144439\n",
      "std     20.771439    0.071808\n",
      "min      1.000000    0.010000\n",
      "25%     12.000000    0.100000\n",
      "50%     20.000000    0.150000\n",
      "75%     36.000000    0.200000\n",
      "max    130.000000    0.250000\n",
      "          Quantity  Discount\n",
      "count  1317.000000    1317.0\n",
      "mean     21.715262       0.0\n",
      "std      17.507493       0.0\n",
      "min       1.000000       0.0\n",
      "25%      10.000000       0.0\n",
      "50%      18.000000       0.0\n",
      "75%      30.000000       0.0\n",
      "max     130.000000       0.0\n"
     ]
    },
    {
     "data": {
      "text/html": [
       "<div>\n",
       "<style scoped>\n",
       "    .dataframe tbody tr th:only-of-type {\n",
       "        vertical-align: middle;\n",
       "    }\n",
       "\n",
       "    .dataframe tbody tr th {\n",
       "        vertical-align: top;\n",
       "    }\n",
       "\n",
       "    .dataframe thead th {\n",
       "        text-align: right;\n",
       "    }\n",
       "</style>\n",
       "<table border=\"1\" class=\"dataframe\">\n",
       "  <thead>\n",
       "    <tr style=\"text-align: right;\">\n",
       "      <th></th>\n",
       "      <th>Quantity</th>\n",
       "      <th>Discount</th>\n",
       "    </tr>\n",
       "  </thead>\n",
       "  <tbody>\n",
       "    <tr>\n",
       "      <th>0</th>\n",
       "      <td>35</td>\n",
       "      <td>0.15</td>\n",
       "    </tr>\n",
       "    <tr>\n",
       "      <th>1</th>\n",
       "      <td>15</td>\n",
       "      <td>0.15</td>\n",
       "    </tr>\n",
       "    <tr>\n",
       "      <th>2</th>\n",
       "      <td>6</td>\n",
       "      <td>0.05</td>\n",
       "    </tr>\n",
       "    <tr>\n",
       "      <th>3</th>\n",
       "      <td>15</td>\n",
       "      <td>0.05</td>\n",
       "    </tr>\n",
       "    <tr>\n",
       "      <th>4</th>\n",
       "      <td>40</td>\n",
       "      <td>0.05</td>\n",
       "    </tr>\n",
       "  </tbody>\n",
       "</table>\n",
       "</div>"
      ],
      "text/plain": [
       "   Quantity  Discount\n",
       "0        35      0.15\n",
       "1        15      0.15\n",
       "2         6      0.05\n",
       "3        15      0.05\n",
       "4        40      0.05"
      ]
     },
     "execution_count": 6,
     "metadata": {},
     "output_type": "execute_result"
    }
   ],
   "source": [
    "#Create dataframes with relevant data.\n",
    "#Orders with discount\n",
    "df_orderd = pd.read_sql_query(\"SELECT Quantity, Discount FROM [OrderDetail] WHERE Discount >0\", engine)\n",
    "#Orders without discount\n",
    "df_ordernd = pd.read_sql_query(\"SELECT Quantity, Discount FROM [OrderDetail] WHERE Discount ==0\", engine)\n",
    "#Check for null values and correct datatype.\n",
    "print(df_orderd.info(),)\n",
    "print(df_ordernd.info(), '\\n')\n",
    "#Descriptive statistics.\n",
    "print(df_orderd.describe())\n",
    "print(df_ordernd.describe())\n",
    "#Visualize first lines of dataframe.\n",
    "df_orderd.head()"
   ]
  },
  {
   "cell_type": "markdown",
   "metadata": {},
   "source": [
    "From this initial data exploration, I can confirm that the data is in the correct datatype as well that it conforms with common sense that there canot be a quantity ordered below 1 or discount below 0. Also, there a no missing values in the data. Northwind is currently offerinf discounts ranging form 1% to 25%. First I will start by visulizing the data."
   ]
  },
  {
   "cell_type": "code",
   "execution_count": 7,
   "metadata": {},
   "outputs": [
    {
     "data": {
      "image/png": "[encoded data removed]",
      "text/plain": [
       "<Figure size 576x432 with 1 Axes>"
      ]
     },
     "metadata": {
      "needs_background": "light"
     },
     "output_type": "display_data"
    },
    {
     "name": "stdout",
     "output_type": "stream",
     "text": [
      "Average quantity ordered with discount:  27\n",
      "Average quantity ordered without discount:  22\n",
      "Percentage increase by offering discount:  24.84 %\n"
     ]
    }
   ],
   "source": [
    "fig = plt.figure(figsize=(8,6))\n",
    "plot_compare(df_orderd.Quantity,df_ordernd.Quantity, title ='Quantities Ordered with and without discount',\n",
    "                labela = 'Discount offered', labelb='No discount')"
   ]
  },
  {
   "cell_type": "markdown",
   "metadata": {},
   "source": [
    "From the visualization, we get that quantities are indeed larger for orders with discounts than for orders without them. In order to test if this difference is significant, I will use a two sample t-test (difference in means) with a 5% significance level. This t-test assumes normality of our data, hence I will proceed to test this assumption with the Shapiro-Wilk test for normality."
   ]
  },
  {
   "cell_type": "code",
   "execution_count": 8,
   "metadata": {},
   "outputs": [
    {
     "name": "stdout",
     "output_type": "stream",
     "text": [
      "The sample is not normally distributed\n",
      "The sample is not normally distributed\n"
     ]
    }
   ],
   "source": [
    "#Test both samples for normality\n",
    "sw_orderdQ =  sw_test(df_orderd.Quantity)\n",
    "sw_orderndQ = sw_test(df_ordernd.Quantity)"
   ]
  },
  {
   "cell_type": "markdown",
   "metadata": {},
   "source": [
    "Alhtough neither sample is normally distributed, I can still perform the t-test because the samples sizes are very large >800. Another assumption of the t-test is that the samples are from populations with equal variances. Hence I will proceed to test this assumption. I will perform Levene test for equal variances given that our samples are not normally distributed."
   ]
  },
  {
   "cell_type": "code",
   "execution_count": 9,
   "metadata": {},
   "outputs": [
    {
     "name": "stdout",
     "output_type": "stream",
     "text": [
      "Input samples are not from populations with equal variances.\n"
     ]
    }
   ],
   "source": [
    "#Perfom Levene test on both samples.\n",
    "if stats.levene(df_orderd.Quantity,df_ordernd.Quantity)[1]<0.05:\n",
    "    print('Input samples are not from populations with equal variances.')\n",
    "else:\n",
    "    print('Input samples are from populations with equal variances.')"
   ]
  },
  {
   "cell_type": "markdown",
   "metadata": {},
   "source": [
    "Now that I know input samples are not from populations with equal variances, I will be performing a Welch's t-test, to see if the two sample means are significantly different."
   ]
  },
  {
   "cell_type": "code",
   "execution_count": 10,
   "metadata": {},
   "outputs": [
    {
     "name": "stdout",
     "output_type": "stream",
     "text": [
      "Welch's t-test = 6.239069142123973\n",
      "p-value: 5.65641429030433e-10\n",
      "DoF: 1561.7678231942134\n",
      "Decision: Reject the null hypothesis\n",
      "Cohens'd:  0.28641058366376687\n",
      "Effect Size: Small\n"
     ]
    }
   ],
   "source": [
    "welch1 = welch_t(df_orderd.Quantity,df_ordernd.Quantity)\n",
    "d = cohen_d(df_orderd.Quantity,df_ordernd.Quantity)"
   ]
  },
  {
   "cell_type": "markdown",
   "metadata": {},
   "source": [
    "**Result:**\n",
    "Given the test results we can successully reject the null hypothesis and accept the alternative that orders with discounts have higher average quantity ordered. Moreover, with cohen's d value, I conclude that the effect size of the discounts is small."
   ]
  },
  {
   "cell_type": "markdown",
   "metadata": {},
   "source": [
    "### 4.1  At what level(s) do discounts have a statistically significant effect on the number of products customers order?<br>\n",
    "I have already accepted the alternate hypotheiss that discounts do increase the quantities ordered. Now, I will attemp to find what levels of discount are more efficient at driving up sales. Principally, I will be looking at the effect size of the discount level against orders with no discounts and orders with different discount level."
   ]
  },
  {
   "cell_type": "code",
   "execution_count": 11,
   "metadata": {},
   "outputs": [
    {
     "data": {
      "text/plain": [
       "array([0.01, 0.02, 0.03, 0.04, 0.05, 0.06, 0.1 , 0.15, 0.2 , 0.25])"
      ]
     },
     "execution_count": 11,
     "metadata": {},
     "output_type": "execute_result"
    }
   ],
   "source": [
    "#Create array with discounts offered.\n",
    "disc_levels = np.array(pd.Series.unique(df_orderd['Discount']).astype(float))\n",
    "disc_levels.sort()\n",
    "disc_levels"
   ]
  },
  {
   "cell_type": "code",
   "execution_count": 12,
   "metadata": {},
   "outputs": [
    {
     "data": {
      "text/html": [
       "<div>\n",
       "<style scoped>\n",
       "    .dataframe tbody tr th:only-of-type {\n",
       "        vertical-align: middle;\n",
       "    }\n",
       "\n",
       "    .dataframe tbody tr th {\n",
       "        vertical-align: top;\n",
       "    }\n",
       "\n",
       "    .dataframe thead th {\n",
       "        text-align: right;\n",
       "    }\n",
       "</style>\n",
       "<table border=\"1\" class=\"dataframe\">\n",
       "  <thead>\n",
       "    <tr style=\"text-align: right;\">\n",
       "      <th></th>\n",
       "      <th>Number of Orders</th>\n",
       "    </tr>\n",
       "  </thead>\n",
       "  <tbody>\n",
       "    <tr>\n",
       "      <th>1.0 %</th>\n",
       "      <td>1</td>\n",
       "    </tr>\n",
       "    <tr>\n",
       "      <th>2.0 %</th>\n",
       "      <td>2</td>\n",
       "    </tr>\n",
       "    <tr>\n",
       "      <th>3.0 %</th>\n",
       "      <td>3</td>\n",
       "    </tr>\n",
       "    <tr>\n",
       "      <th>4.0 %</th>\n",
       "      <td>1</td>\n",
       "    </tr>\n",
       "    <tr>\n",
       "      <th>5.0 %</th>\n",
       "      <td>185</td>\n",
       "    </tr>\n",
       "    <tr>\n",
       "      <th>6.0 %</th>\n",
       "      <td>1</td>\n",
       "    </tr>\n",
       "    <tr>\n",
       "      <th>10.0 %</th>\n",
       "      <td>173</td>\n",
       "    </tr>\n",
       "    <tr>\n",
       "      <th>15.0 %</th>\n",
       "      <td>157</td>\n",
       "    </tr>\n",
       "    <tr>\n",
       "      <th>20.0 %</th>\n",
       "      <td>161</td>\n",
       "    </tr>\n",
       "    <tr>\n",
       "      <th>25.0 %</th>\n",
       "      <td>154</td>\n",
       "    </tr>\n",
       "  </tbody>\n",
       "</table>\n",
       "</div>"
      ],
      "text/plain": [
       "        Number of Orders\n",
       "1.0 %                  1\n",
       "2.0 %                  2\n",
       "3.0 %                  3\n",
       "4.0 %                  1\n",
       "5.0 %                185\n",
       "6.0 %                  1\n",
       "10.0 %               173\n",
       "15.0 %               157\n",
       "20.0 %               161\n",
       "25.0 %               154"
      ]
     },
     "execution_count": 12,
     "metadata": {},
     "output_type": "execute_result"
    }
   ],
   "source": [
    "disc_n={}\n",
    "for d in disc_levels:\n",
    "    '''Find out how many orders there are per level of discount.'''\n",
    "    level_name = str(d*100)+' %'\n",
    "    disc_n[level_name]=len(df_orderd[df_orderd['Discount']==d])\n",
    "\n",
    "df_nlevels = pd.DataFrame.from_dict(disc_n, orient='index', columns=['Number of Orders'])\n",
    "df_nlevels"
   ]
  },
  {
   "cell_type": "markdown",
   "metadata": {},
   "source": [
    "I will only look at discount values of 5%, 10%, 15%, 20%, and 25%, because all other discounts have very few orders placed, I will consider them as outliers since for the most part they seem to be one-offs. "
   ]
  },
  {
   "cell_type": "code",
   "execution_count": 13,
   "metadata": {},
   "outputs": [],
   "source": [
    "#Create separate dataframes according to the different selected discounts.\n",
    "selected_d = np.array([.05,.1,.15,.2,.25])#Array of selected discounts.\n",
    "#List of dataframes for different discount levels.\n",
    "dfs=[]\n",
    "for d in selected_d:\n",
    "    df_dl = df_orderd[df_orderd['Discount'] == d]\n",
    "    dfs.append(df_dl)"
   ]
  },
  {
   "cell_type": "code",
   "execution_count": 14,
   "metadata": {},
   "outputs": [
    {
     "data": {
      "image/png": "[encoded data removed]",
      "text/plain": [
       "<Figure size 432x288 with 1 Axes>"
      ]
     },
     "metadata": {
      "needs_background": "light"
     },
     "output_type": "display_data"
    },
    {
     "name": "stdout",
     "output_type": "stream",
     "text": [
      "Average quantity ordered with discount:  28\n",
      "Average quantity ordered without discount:  22\n",
      "Percentage increase by offering discount:  28.99 %\n"
     ]
    },
    {
     "data": {
      "image/png": "[encoded data removed]",
      "text/plain": [
       "<Figure size 432x288 with 1 Axes>"
      ]
     },
     "metadata": {
      "needs_background": "light"
     },
     "output_type": "display_data"
    },
    {
     "name": "stdout",
     "output_type": "stream",
     "text": [
      "Average quantity ordered with discount:  25\n",
      "Average quantity ordered without discount:  22\n",
      "Percentage increase by offering discount:  16.22 %\n"
     ]
    },
    {
     "data": {
      "image/png": "[encoded data removed]",
      "text/plain": [
       "<Figure size 432x288 with 1 Axes>"
      ]
     },
     "metadata": {
      "needs_background": "light"
     },
     "output_type": "display_data"
    },
    {
     "name": "stdout",
     "output_type": "stream",
     "text": [
      "Average quantity ordered with discount:  28\n",
      "Average quantity ordered without discount:  22\n",
      "Percentage increase by offering discount:  30.7 %\n"
     ]
    },
    {
     "data": {
      "image/png": "[encoded data removed]",
      "text/plain": [
       "<Figure size 432x288 with 1 Axes>"
      ]
     },
     "metadata": {
      "needs_background": "light"
     },
     "output_type": "display_data"
    },
    {
     "name": "stdout",
     "output_type": "stream",
     "text": [
      "Average quantity ordered with discount:  27\n",
      "Average quantity ordered without discount:  22\n",
      "Percentage increase by offering discount:  24.45 %\n"
     ]
    },
    {
     "data": {
      "image/png": "[encoded data removed]",
      "text/plain": [
       "<Figure size 432x288 with 1 Axes>"
      ]
     },
     "metadata": {
      "needs_background": "light"
     },
     "output_type": "display_data"
    },
    {
     "name": "stdout",
     "output_type": "stream",
     "text": [
      "Average quantity ordered with discount:  28\n",
      "Average quantity ordered without discount:  22\n",
      "Percentage increase by offering discount:  30.05 %\n"
     ]
    }
   ],
   "source": [
    "'''Let's start by vizualising each of the discount levels order quantity \n",
    "distributions against orders with no discount.'''\n",
    "for i in range(len(dfs)):\n",
    "    plot_compare(dfs[i].Quantity, df_ordernd.Quantity,title=f'Discount level of {selected_d[i]*100}%')"
   ]
  },
  {
   "cell_type": "markdown",
   "metadata": {},
   "source": [
    "Percentage increase in quantities ordered by discount level range from 16% to almost 31%. From the previous hypotheiss testing results, on average offering discounts have a small effect in increasing order quantities. For this test we should focus on the lowest discount level that provides the largest effect size, since this would be the optimal discount level at which revenues can be maximized."
   ]
  },
  {
   "cell_type": "code",
   "execution_count": 15,
   "metadata": {},
   "outputs": [
    {
     "name": "stdout",
     "output_type": "stream",
     "text": [
      "Hypothesis testing results for discount level of: 5.0%\n",
      "Welch's t-test = 2.094434281933477\n",
      "p-value: 0.0374559661063408\n",
      "DoF: 204.02596077508417\n",
      "Decision: Reject the null hypothesis\n",
      "Cohens'd:  0.3471571400334967\n",
      "Effect Size: Small\n",
      "\n",
      "\n",
      "Hypothesis testing results for discount level of: 10.0%\n",
      "Welch's t-test = 2.094434281933477\n",
      "p-value: 0.0374559661063408\n",
      "DoF: 204.02596077508417\n",
      "Decision: Reject the null hypothesis\n",
      "Cohens'd:  0.1960959633346713\n",
      "Effect Size: Very Small\n",
      "\n",
      "\n",
      "Hypothesis testing results for discount level of: 15.0%\n",
      "Welch's t-test = 2.094434281933477\n",
      "p-value: 0.0374559661063408\n",
      "DoF: 204.02596077508417\n",
      "Decision: Reject the null hypothesis\n",
      "Cohens'd:  0.37269784425960406\n",
      "Effect Size: Small\n",
      "\n",
      "\n",
      "Hypothesis testing results for discount level of: 20.0%\n",
      "Welch's t-test = 2.094434281933477\n",
      "p-value: 0.0374559661063408\n",
      "DoF: 204.02596077508417\n",
      "Decision: Reject the null hypothesis\n",
      "Cohens'd:  0.30092823748975356\n",
      "Effect Size: Small\n",
      "\n",
      "\n",
      "Hypothesis testing results for discount level of: 25.0%\n",
      "Welch's t-test = 2.094434281933477\n",
      "p-value: 0.0374559661063408\n",
      "DoF: 204.02596077508417\n",
      "Decision: Reject the null hypothesis\n",
      "Cohens'd:  0.3668726662494318\n",
      "Effect Size: Small\n",
      "\n",
      "\n"
     ]
    },
    {
     "data": {
      "text/html": [
       "<div>\n",
       "<style scoped>\n",
       "    .dataframe tbody tr th:only-of-type {\n",
       "        vertical-align: middle;\n",
       "    }\n",
       "\n",
       "    .dataframe tbody tr th {\n",
       "        vertical-align: top;\n",
       "    }\n",
       "\n",
       "    .dataframe thead th {\n",
       "        text-align: right;\n",
       "    }\n",
       "</style>\n",
       "<table border=\"1\" class=\"dataframe\">\n",
       "  <thead>\n",
       "    <tr style=\"text-align: right;\">\n",
       "      <th></th>\n",
       "      <th>Discount_Level</th>\n",
       "      <th>Decision</th>\n",
       "      <th>Cohen_d</th>\n",
       "    </tr>\n",
       "  </thead>\n",
       "  <tbody>\n",
       "    <tr>\n",
       "      <th>1</th>\n",
       "      <td>10.0%</td>\n",
       "      <td>Reject the Null</td>\n",
       "      <td>0.196096</td>\n",
       "    </tr>\n",
       "    <tr>\n",
       "      <th>3</th>\n",
       "      <td>20.0%</td>\n",
       "      <td>Reject the Null</td>\n",
       "      <td>0.300928</td>\n",
       "    </tr>\n",
       "    <tr>\n",
       "      <th>0</th>\n",
       "      <td>5.0%</td>\n",
       "      <td>Reject the Null</td>\n",
       "      <td>0.347157</td>\n",
       "    </tr>\n",
       "    <tr>\n",
       "      <th>4</th>\n",
       "      <td>25.0%</td>\n",
       "      <td>Reject the Null</td>\n",
       "      <td>0.366873</td>\n",
       "    </tr>\n",
       "    <tr>\n",
       "      <th>2</th>\n",
       "      <td>15.0%</td>\n",
       "      <td>Reject the Null</td>\n",
       "      <td>0.372698</td>\n",
       "    </tr>\n",
       "  </tbody>\n",
       "</table>\n",
       "</div>"
      ],
      "text/plain": [
       "  Discount_Level         Decision   Cohen_d\n",
       "1          10.0%  Reject the Null  0.196096\n",
       "3          20.0%  Reject the Null  0.300928\n",
       "0           5.0%  Reject the Null  0.347157\n",
       "4          25.0%  Reject the Null  0.366873\n",
       "2          15.0%  Reject the Null  0.372698"
      ]
     },
     "execution_count": 15,
     "metadata": {},
     "output_type": "execute_result"
    }
   ],
   "source": [
    "#Get results for hypothesis testing.\n",
    "results=[]\n",
    "for i in range(len(dfs)):\n",
    "    print(f'Hypothesis testing results for discount level of: {selected_d[i]*100}%')\n",
    "    welch = welch_t(dfs[1].Quantity,df_ordernd.Quantity)\n",
    "    d = cohen_d(dfs[i].Quantity,df_ordernd.Quantity)\n",
    "    decision = 'Reject the Null' if welch[1]<0.05 else 'Fail to Reject the Null'\n",
    "    result = [f'{selected_d[i]*100}%', decision, d]\n",
    "    results.append(result)\n",
    "    print('\\n')\n",
    "results_df=pd.DataFrame(results,columns=['Discount_Level', 'Decision', \"Cohen_d\"])\n",
    "results_df.sort_values('Cohen_d')"
   ]
  },
  {
   "cell_type": "markdown",
   "metadata": {},
   "source": [
    "From the results, I find it surpiring to see that the effect size is not perfectly correlated to discount levels. I would have expected incremental effect sizes as discount levels increase. The least effect size was shown at the 10% discount levels, a 5% or even offering a 15% discount gives a much larger effect size so they can be thought of as much better alternatives to boost sales. However, I still have to test if the differences amongst discount levels are statistically significant to find out if one is better than the other."
   ]
  },
  {
   "cell_type": "code",
   "execution_count": 16,
   "metadata": {},
   "outputs": [
    {
     "data": {
      "text/html": [
       "<div>\n",
       "<style scoped>\n",
       "    .dataframe tbody tr th:only-of-type {\n",
       "        vertical-align: middle;\n",
       "    }\n",
       "\n",
       "    .dataframe tbody tr th {\n",
       "        vertical-align: top;\n",
       "    }\n",
       "\n",
       "    .dataframe thead th {\n",
       "        text-align: right;\n",
       "    }\n",
       "</style>\n",
       "<table border=\"1\" class=\"dataframe\">\n",
       "  <thead>\n",
       "    <tr style=\"text-align: right;\">\n",
       "      <th></th>\n",
       "      <th>Discount_Level</th>\n",
       "      <th>Decision</th>\n",
       "      <th>Cohen_d</th>\n",
       "    </tr>\n",
       "  </thead>\n",
       "  <tbody>\n",
       "    <tr>\n",
       "      <th>0</th>\n",
       "      <td>5.0% vs. 10.0%</td>\n",
       "      <td>Fail to Reject the Null</td>\n",
       "      <td>0.128127</td>\n",
       "    </tr>\n",
       "    <tr>\n",
       "      <th>1</th>\n",
       "      <td>5.0% vs. 15.0%</td>\n",
       "      <td>Fail to Reject the Null</td>\n",
       "      <td>-0.017230</td>\n",
       "    </tr>\n",
       "    <tr>\n",
       "      <th>2</th>\n",
       "      <td>5.0% vs. 20.0%</td>\n",
       "      <td>Fail to Reject the Null</td>\n",
       "      <td>0.047781</td>\n",
       "    </tr>\n",
       "    <tr>\n",
       "      <th>3</th>\n",
       "      <td>5.0% vs. 25.0%</td>\n",
       "      <td>Fail to Reject the Null</td>\n",
       "      <td>-0.010817</td>\n",
       "    </tr>\n",
       "    <tr>\n",
       "      <th>4</th>\n",
       "      <td>10.0% vs. 15.0%</td>\n",
       "      <td>Fail to Reject the Null</td>\n",
       "      <td>-0.149786</td>\n",
       "    </tr>\n",
       "    <tr>\n",
       "      <th>5</th>\n",
       "      <td>10.0% vs. 20.0%</td>\n",
       "      <td>Fail to Reject the Null</td>\n",
       "      <td>-0.089275</td>\n",
       "    </tr>\n",
       "    <tr>\n",
       "      <th>6</th>\n",
       "      <td>10.0% vs. 25.0%</td>\n",
       "      <td>Fail to Reject the Null</td>\n",
       "      <td>-0.145591</td>\n",
       "    </tr>\n",
       "    <tr>\n",
       "      <th>7</th>\n",
       "      <td>15.0% vs. 20.0%</td>\n",
       "      <td>Fail to Reject the Null</td>\n",
       "      <td>0.068449</td>\n",
       "    </tr>\n",
       "    <tr>\n",
       "      <th>8</th>\n",
       "      <td>15.0% vs. 25.0%</td>\n",
       "      <td>Fail to Reject the Null</td>\n",
       "      <td>0.006935</td>\n",
       "    </tr>\n",
       "    <tr>\n",
       "      <th>9</th>\n",
       "      <td>20.0% vs. 25.0%</td>\n",
       "      <td>Fail to Reject the Null</td>\n",
       "      <td>-0.062615</td>\n",
       "    </tr>\n",
       "  </tbody>\n",
       "</table>\n",
       "</div>"
      ],
      "text/plain": [
       "    Discount_Level                 Decision   Cohen_d\n",
       "0   5.0% vs. 10.0%  Fail to Reject the Null  0.128127\n",
       "1   5.0% vs. 15.0%  Fail to Reject the Null -0.017230\n",
       "2   5.0% vs. 20.0%  Fail to Reject the Null  0.047781\n",
       "3   5.0% vs. 25.0%  Fail to Reject the Null -0.010817\n",
       "4  10.0% vs. 15.0%  Fail to Reject the Null -0.149786\n",
       "5  10.0% vs. 20.0%  Fail to Reject the Null -0.089275\n",
       "6  10.0% vs. 25.0%  Fail to Reject the Null -0.145591\n",
       "7  15.0% vs. 20.0%  Fail to Reject the Null  0.068449\n",
       "8  15.0% vs. 25.0%  Fail to Reject the Null  0.006935\n",
       "9  20.0% vs. 25.0%  Fail to Reject the Null -0.062615"
      ]
     },
     "execution_count": 16,
     "metadata": {},
     "output_type": "execute_result"
    }
   ],
   "source": [
    "#Get all the possible combinations between different discount levels.\n",
    "combs = itertools.combinations(range(len(dfs)),2)\n",
    "#Perform Welch t-test amongst discount levels.\n",
    "ct_results = []\n",
    "for comb in combs:\n",
    "    welch = welch_t(dfs[comb[0]].Quantity,dfs[comb[1]].Quantity,describe=False)\n",
    "    d = cohen_d(dfs[comb[0]].Quantity,dfs[comb[1]].Quantity,describe=False)\n",
    "    decision = 'Reject the Null' if welch[1]<0.05 else 'Fail to Reject the Null'\n",
    "    result = [f'{selected_d[comb[0]]*100}% vs. {selected_d[comb[1]]*100}%', decision, d]\n",
    "    ct_results.append(result)\n",
    "crosstest_df=pd.DataFrame(ct_results,columns=['Discount_Level', 'Decision', \"Cohen_d\"])\n",
    "crosstest_df"
   ]
  },
  {
   "cell_type": "markdown",
   "metadata": {},
   "source": [
    "**Result:** There are no statistically significant differences in quantities ordered amongst discount levels. I failed to reject the null hypothesis, so I cannot accept the alternative that there is a statistically significant difference in means amongts dicount levels."
   ]
  },
  {
   "cell_type": "markdown",
   "metadata": {},
   "source": [
    "## 5. Are certain employees more productive than others? <br>\n",
    "Northwind has 9 employees on its sales department, hence it is very important to see if there are any stars to encourage their performance, or identify poor performing employees to try and push them up to par. To find out if there are differences in quantities ordered I will use a One-Way ANOVA Hypotheiss Test. The null hypothesis for ANOVA is that the mean order quantity is the same for all employees. The alternative hypothesis is that the average is not the same for all employees.\n",
    "\n",
    "<br>\n",
    "> $H_{0}:$ *All employees have the same ordered quantities*$\\mu_0 = \\mu_1 = \\mu_n $ <br> \n",
    "> $H_{1}:$ *Quantities ordered are not the same for all employees* $\\mu_0 = \\mu:1 \\neq \\mu_n $ <br>\n",
    "> Significance Level: $\\alpha = 0.05$ *Probability of a Type I error*<br>\n",
    "\n",
    "I will gather quantities ordered information in a per country basis based on the employees location. The tables relevant to answering this question are: Employee, Order and Order Detail."
   ]
  },
  {
   "cell_type": "code",
   "execution_count": 17,
   "metadata": {},
   "outputs": [
    {
     "name": "stdout",
     "output_type": "stream",
     "text": [
      "2019-06-07 15:41:18,844 INFO sqlalchemy.engine.base.Engine SELECT e.Country, od.Quantity, e.ID AS eID\n",
      "                                  FROM [Employee] AS e\n",
      "                                  JOIN [Order] AS o ON e.ID==o.EmployeeID\n",
      "                                  JOIN [OrderDetail] AS od ON o.ID == od.OrderID\n",
      "2019-06-07 15:41:18,845 INFO sqlalchemy.engine.base.Engine ()\n"
     ]
    },
    {
     "data": {
      "text/html": [
       "<div>\n",
       "<style scoped>\n",
       "    .dataframe tbody tr th:only-of-type {\n",
       "        vertical-align: middle;\n",
       "    }\n",
       "\n",
       "    .dataframe tbody tr th {\n",
       "        vertical-align: top;\n",
       "    }\n",
       "\n",
       "    .dataframe thead th {\n",
       "        text-align: right;\n",
       "    }\n",
       "</style>\n",
       "<table border=\"1\" class=\"dataframe\">\n",
       "  <thead>\n",
       "    <tr style=\"text-align: right;\">\n",
       "      <th></th>\n",
       "      <th>count</th>\n",
       "      <th>mean</th>\n",
       "      <th>std</th>\n",
       "      <th>min</th>\n",
       "      <th>25%</th>\n",
       "      <th>50%</th>\n",
       "      <th>75%</th>\n",
       "      <th>max</th>\n",
       "    </tr>\n",
       "    <tr>\n",
       "      <th>eID</th>\n",
       "      <th></th>\n",
       "      <th></th>\n",
       "      <th></th>\n",
       "      <th></th>\n",
       "      <th></th>\n",
       "      <th></th>\n",
       "      <th></th>\n",
       "      <th></th>\n",
       "    </tr>\n",
       "  </thead>\n",
       "  <tbody>\n",
       "    <tr>\n",
       "      <th>1</th>\n",
       "      <td>345.0</td>\n",
       "      <td>22.643478</td>\n",
       "      <td>19.658357</td>\n",
       "      <td>1.0</td>\n",
       "      <td>10.0</td>\n",
       "      <td>20.0</td>\n",
       "      <td>30.0</td>\n",
       "      <td>120.0</td>\n",
       "    </tr>\n",
       "    <tr>\n",
       "      <th>2</th>\n",
       "      <td>241.0</td>\n",
       "      <td>25.124481</td>\n",
       "      <td>21.164068</td>\n",
       "      <td>1.0</td>\n",
       "      <td>10.0</td>\n",
       "      <td>20.0</td>\n",
       "      <td>30.0</td>\n",
       "      <td>120.0</td>\n",
       "    </tr>\n",
       "    <tr>\n",
       "      <th>3</th>\n",
       "      <td>321.0</td>\n",
       "      <td>24.461059</td>\n",
       "      <td>18.396651</td>\n",
       "      <td>2.0</td>\n",
       "      <td>10.0</td>\n",
       "      <td>20.0</td>\n",
       "      <td>30.0</td>\n",
       "      <td>110.0</td>\n",
       "    </tr>\n",
       "    <tr>\n",
       "      <th>4</th>\n",
       "      <td>420.0</td>\n",
       "      <td>23.328571</td>\n",
       "      <td>18.105542</td>\n",
       "      <td>1.0</td>\n",
       "      <td>10.0</td>\n",
       "      <td>20.0</td>\n",
       "      <td>30.0</td>\n",
       "      <td>130.0</td>\n",
       "    </tr>\n",
       "    <tr>\n",
       "      <th>5</th>\n",
       "      <td>117.0</td>\n",
       "      <td>25.948718</td>\n",
       "      <td>20.755907</td>\n",
       "      <td>2.0</td>\n",
       "      <td>12.0</td>\n",
       "      <td>20.0</td>\n",
       "      <td>35.0</td>\n",
       "      <td>120.0</td>\n",
       "    </tr>\n",
       "    <tr>\n",
       "      <th>6</th>\n",
       "      <td>168.0</td>\n",
       "      <td>20.994048</td>\n",
       "      <td>16.694686</td>\n",
       "      <td>2.0</td>\n",
       "      <td>10.0</td>\n",
       "      <td>18.0</td>\n",
       "      <td>28.5</td>\n",
       "      <td>130.0</td>\n",
       "    </tr>\n",
       "    <tr>\n",
       "      <th>7</th>\n",
       "      <td>176.0</td>\n",
       "      <td>26.443182</td>\n",
       "      <td>21.185093</td>\n",
       "      <td>1.0</td>\n",
       "      <td>10.0</td>\n",
       "      <td>20.0</td>\n",
       "      <td>35.0</td>\n",
       "      <td>120.0</td>\n",
       "    </tr>\n",
       "    <tr>\n",
       "      <th>8</th>\n",
       "      <td>260.0</td>\n",
       "      <td>22.742308</td>\n",
       "      <td>17.480462</td>\n",
       "      <td>2.0</td>\n",
       "      <td>10.0</td>\n",
       "      <td>20.0</td>\n",
       "      <td>30.0</td>\n",
       "      <td>100.0</td>\n",
       "    </tr>\n",
       "    <tr>\n",
       "      <th>9</th>\n",
       "      <td>107.0</td>\n",
       "      <td>24.953271</td>\n",
       "      <td>18.031096</td>\n",
       "      <td>1.0</td>\n",
       "      <td>12.0</td>\n",
       "      <td>20.0</td>\n",
       "      <td>35.0</td>\n",
       "      <td>110.0</td>\n",
       "    </tr>\n",
       "  </tbody>\n",
       "</table>\n",
       "</div>"
      ],
      "text/plain": [
       "     count       mean        std  min   25%   50%   75%    max\n",
       "eID                                                           \n",
       "1    345.0  22.643478  19.658357  1.0  10.0  20.0  30.0  120.0\n",
       "2    241.0  25.124481  21.164068  1.0  10.0  20.0  30.0  120.0\n",
       "3    321.0  24.461059  18.396651  2.0  10.0  20.0  30.0  110.0\n",
       "4    420.0  23.328571  18.105542  1.0  10.0  20.0  30.0  130.0\n",
       "5    117.0  25.948718  20.755907  2.0  12.0  20.0  35.0  120.0\n",
       "6    168.0  20.994048  16.694686  2.0  10.0  18.0  28.5  130.0\n",
       "7    176.0  26.443182  21.185093  1.0  10.0  20.0  35.0  120.0\n",
       "8    260.0  22.742308  17.480462  2.0  10.0  20.0  30.0  100.0\n",
       "9    107.0  24.953271  18.031096  1.0  12.0  20.0  35.0  110.0"
      ]
     },
     "execution_count": 17,
     "metadata": {},
     "output_type": "execute_result"
    }
   ],
   "source": [
    "#Perform SQL query to get requiered data.\n",
    "employee_orders = pd.read_sql_query(\"\"\"SELECT e.Country, od.Quantity, e.ID AS eID\n",
    "                                  FROM [Employee] AS e\n",
    "                                  JOIN [Order] AS o ON e.ID==o.EmployeeID\n",
    "                                  JOIN [OrderDetail] AS od ON o.ID == od.OrderID\"\"\", engine)\n",
    "#Group dtaa by employee and get descriptive statistics\n",
    "employee_orders.groupby('eID').Quantity.describe()"
   ]
  },
  {
   "cell_type": "markdown",
   "metadata": {},
   "source": [
    "From the descriptive statistics, I can observe that values amongst employees do not vary greatly. They all have a relatively large amount of orders (sample size) hence I will be able to perform the ANOVA test event if the distributions for each of the employees order quantity is not normal."
   ]
  },
  {
   "cell_type": "code",
   "execution_count": 18,
   "metadata": {},
   "outputs": [
    {
     "data": {
      "text/plain": [
       "'Order Quantites seem very similar amongst employees'"
      ]
     },
     "execution_count": 18,
     "metadata": {},
     "output_type": "execute_result"
    },
    {
     "data": {
      "image/png": "[encoded data removed]",
      "text/plain": [
       "<Figure size 360x360 with 1 Axes>"
      ]
     },
     "metadata": {
      "needs_background": "light"
     },
     "output_type": "display_data"
    }
   ],
   "source": [
    "sns.catplot(x=\"eID\", y=\"Quantity\",kind=\"box\",data=employee_orders, );\n",
    "'''Order Quantites seem very similar amongst employees'''"
   ]
  },
  {
   "cell_type": "code",
   "execution_count": 72,
   "metadata": {},
   "outputs": [
    {
     "name": "stdout",
     "output_type": "stream",
     "text": [
      "Fail to reject the Null Hypothesis\n"
     ]
    },
    {
     "data": {
      "text/html": [
       "<div>\n",
       "<style scoped>\n",
       "    .dataframe tbody tr th:only-of-type {\n",
       "        vertical-align: middle;\n",
       "    }\n",
       "\n",
       "    .dataframe tbody tr th {\n",
       "        vertical-align: top;\n",
       "    }\n",
       "\n",
       "    .dataframe thead th {\n",
       "        text-align: right;\n",
       "    }\n",
       "</style>\n",
       "<table border=\"1\" class=\"dataframe\">\n",
       "  <thead>\n",
       "    <tr style=\"text-align: right;\">\n",
       "      <th></th>\n",
       "      <th>df</th>\n",
       "      <th>sum_sq</th>\n",
       "      <th>mean_sq</th>\n",
       "      <th>F</th>\n",
       "      <th>PR(&gt;F)</th>\n",
       "    </tr>\n",
       "  </thead>\n",
       "  <tbody>\n",
       "    <tr>\n",
       "      <th>C(eID)</th>\n",
       "      <td>8.0</td>\n",
       "      <td>4643.183282</td>\n",
       "      <td>580.39791</td>\n",
       "      <td>1.607646</td>\n",
       "      <td>0.11745</td>\n",
       "    </tr>\n",
       "    <tr>\n",
       "      <th>Residual</th>\n",
       "      <td>2146.0</td>\n",
       "      <td>774756.452913</td>\n",
       "      <td>361.02351</td>\n",
       "      <td>NaN</td>\n",
       "      <td>NaN</td>\n",
       "    </tr>\n",
       "  </tbody>\n",
       "</table>\n",
       "</div>"
      ],
      "text/plain": [
       "              df         sum_sq    mean_sq         F   PR(>F)\n",
       "C(eID)       8.0    4643.183282  580.39791  1.607646  0.11745\n",
       "Residual  2146.0  774756.452913  361.02351       NaN      NaN"
      ]
     },
     "execution_count": 72,
     "metadata": {},
     "output_type": "execute_result"
    }
   ],
   "source": [
    "formula = 'Quantity ~ C(eID)'\n",
    "ANOVA(formula,employee_orders)"
   ]
  },
  {
   "cell_type": "markdown",
   "metadata": {},
   "source": [
    "**Result:** Since I failed to reject the null, I will accept that the mean order quantity is the same for all employees. Hence, management is doing a great job so that every employee performs to the standard with no one left behind. Since employees included in thi stest were located in both locations, it is also safe to deduct that there are no differences in orders amongst countries."
   ]
  },
  {
   "cell_type": "markdown",
   "metadata": {},
   "source": [
    "## 6. Do certain product categories have higher demand?<br>\n",
    "Another opportunity for investment might be to increase marketing budget to a product category that is expierencing a higer demand than the others. I wil start with the Null hypothesis that all product categories have the same amount of demand, and my alternate hypothesis is that at leats one category has a different demand than the others. For this I will also be performing a one-way ANOVA test.\n",
    "<br>\n",
    "> $H_{0}:$ *All employees have the same ordered quantities*$\\mu_0 = \\mu_1 = \\mu_n $ <br> \n",
    "> $H_{1}:$ *Quantities ordered are not the same for all employees* $\\mu_0 = \\mu:1 \\neq \\mu_n $ <br>\n",
    "> Significance Level: $\\alpha = 0.05$ *Probability of a Type I error*<br>\n",
    "\n",
    "I will need the order details per category, in specifict quantities ordered. "
   ]
  },
  {
   "cell_type": "code",
   "execution_count": 49,
   "metadata": {},
   "outputs": [
    {
     "name": "stdout",
     "output_type": "stream",
     "text": [
      "2019-06-07 16:09:53,847 INFO sqlalchemy.engine.base.Engine SELECT c.CategoryName AS Category, od.Quantity, e.Country\n",
      "                                FROM [Order] AS o \n",
      "                                JOIN [OrderDetail] AS od ON o.ID == od.OrderID \n",
      "                                JOIN [Product] AS p ON od.ProductID == p.ID \n",
      "                                JOIN [Category] AS c ON p.CategoryID == c.ID\n",
      "                                JOIN [Employee] AS e ON o.EmployeeID == e.ID\n",
      "2019-06-07 16:09:53,848 INFO sqlalchemy.engine.base.Engine ()\n"
     ]
    },
    {
     "data": {
      "text/html": [
       "<div>\n",
       "<style scoped>\n",
       "    .dataframe tbody tr th:only-of-type {\n",
       "        vertical-align: middle;\n",
       "    }\n",
       "\n",
       "    .dataframe tbody tr th {\n",
       "        vertical-align: top;\n",
       "    }\n",
       "\n",
       "    .dataframe thead tr th {\n",
       "        text-align: left;\n",
       "    }\n",
       "\n",
       "    .dataframe thead tr:last-of-type th {\n",
       "        text-align: right;\n",
       "    }\n",
       "</style>\n",
       "<table border=\"1\" class=\"dataframe\">\n",
       "  <thead>\n",
       "    <tr>\n",
       "      <th></th>\n",
       "      <th colspan=\"8\" halign=\"left\">Quantity</th>\n",
       "    </tr>\n",
       "    <tr>\n",
       "      <th></th>\n",
       "      <th>count</th>\n",
       "      <th>mean</th>\n",
       "      <th>std</th>\n",
       "      <th>min</th>\n",
       "      <th>25%</th>\n",
       "      <th>50%</th>\n",
       "      <th>75%</th>\n",
       "      <th>max</th>\n",
       "    </tr>\n",
       "    <tr>\n",
       "      <th>Category</th>\n",
       "      <th></th>\n",
       "      <th></th>\n",
       "      <th></th>\n",
       "      <th></th>\n",
       "      <th></th>\n",
       "      <th></th>\n",
       "      <th></th>\n",
       "      <th></th>\n",
       "    </tr>\n",
       "  </thead>\n",
       "  <tbody>\n",
       "    <tr>\n",
       "      <th>Beverages</th>\n",
       "      <td>404.0</td>\n",
       "      <td>23.594059</td>\n",
       "      <td>19.222830</td>\n",
       "      <td>2.0</td>\n",
       "      <td>10.0</td>\n",
       "      <td>20.0</td>\n",
       "      <td>30.00</td>\n",
       "      <td>130.0</td>\n",
       "    </tr>\n",
       "    <tr>\n",
       "      <th>Condiments</th>\n",
       "      <td>216.0</td>\n",
       "      <td>24.527778</td>\n",
       "      <td>19.761818</td>\n",
       "      <td>1.0</td>\n",
       "      <td>10.0</td>\n",
       "      <td>20.0</td>\n",
       "      <td>30.00</td>\n",
       "      <td>120.0</td>\n",
       "    </tr>\n",
       "    <tr>\n",
       "      <th>Confections</th>\n",
       "      <td>334.0</td>\n",
       "      <td>23.670659</td>\n",
       "      <td>17.264570</td>\n",
       "      <td>1.0</td>\n",
       "      <td>10.0</td>\n",
       "      <td>20.0</td>\n",
       "      <td>34.25</td>\n",
       "      <td>120.0</td>\n",
       "    </tr>\n",
       "    <tr>\n",
       "      <th>Dairy Products</th>\n",
       "      <td>366.0</td>\n",
       "      <td>24.997268</td>\n",
       "      <td>18.797770</td>\n",
       "      <td>1.0</td>\n",
       "      <td>10.0</td>\n",
       "      <td>20.0</td>\n",
       "      <td>35.00</td>\n",
       "      <td>110.0</td>\n",
       "    </tr>\n",
       "    <tr>\n",
       "      <th>Grains/Cereals</th>\n",
       "      <td>196.0</td>\n",
       "      <td>23.275510</td>\n",
       "      <td>18.253924</td>\n",
       "      <td>2.0</td>\n",
       "      <td>10.0</td>\n",
       "      <td>20.0</td>\n",
       "      <td>30.00</td>\n",
       "      <td>130.0</td>\n",
       "    </tr>\n",
       "    <tr>\n",
       "      <th>Meat/Poultry</th>\n",
       "      <td>173.0</td>\n",
       "      <td>24.271676</td>\n",
       "      <td>22.238955</td>\n",
       "      <td>2.0</td>\n",
       "      <td>10.0</td>\n",
       "      <td>18.0</td>\n",
       "      <td>30.00</td>\n",
       "      <td>120.0</td>\n",
       "    </tr>\n",
       "    <tr>\n",
       "      <th>Produce</th>\n",
       "      <td>136.0</td>\n",
       "      <td>21.985294</td>\n",
       "      <td>18.490031</td>\n",
       "      <td>1.0</td>\n",
       "      <td>10.0</td>\n",
       "      <td>19.0</td>\n",
       "      <td>30.00</td>\n",
       "      <td>120.0</td>\n",
       "    </tr>\n",
       "    <tr>\n",
       "      <th>Seafood</th>\n",
       "      <td>330.0</td>\n",
       "      <td>23.275758</td>\n",
       "      <td>19.161917</td>\n",
       "      <td>1.0</td>\n",
       "      <td>10.0</td>\n",
       "      <td>20.0</td>\n",
       "      <td>30.00</td>\n",
       "      <td>120.0</td>\n",
       "    </tr>\n",
       "  </tbody>\n",
       "</table>\n",
       "</div>"
      ],
      "text/plain": [
       "               Quantity                                                     \n",
       "                  count       mean        std  min   25%   50%    75%    max\n",
       "Category                                                                    \n",
       "Beverages         404.0  23.594059  19.222830  2.0  10.0  20.0  30.00  130.0\n",
       "Condiments        216.0  24.527778  19.761818  1.0  10.0  20.0  30.00  120.0\n",
       "Confections       334.0  23.670659  17.264570  1.0  10.0  20.0  34.25  120.0\n",
       "Dairy Products    366.0  24.997268  18.797770  1.0  10.0  20.0  35.00  110.0\n",
       "Grains/Cereals    196.0  23.275510  18.253924  2.0  10.0  20.0  30.00  130.0\n",
       "Meat/Poultry      173.0  24.271676  22.238955  2.0  10.0  18.0  30.00  120.0\n",
       "Produce           136.0  21.985294  18.490031  1.0  10.0  19.0  30.00  120.0\n",
       "Seafood           330.0  23.275758  19.161917  1.0  10.0  20.0  30.00  120.0"
      ]
     },
     "execution_count": 49,
     "metadata": {},
     "output_type": "execute_result"
    }
   ],
   "source": [
    "#Create dataframe with categories, quantities ordered and country of the employee who submitted the order.\n",
    "prod_region = pd.read_sql_query(\"\"\"SELECT c.CategoryName AS Category, od.Quantity, e.Country\n",
    "                                FROM [Order] AS o \n",
    "                                JOIN [OrderDetail] AS od ON o.ID == od.OrderID \n",
    "                                JOIN [Product] AS p ON od.ProductID == p.ID \n",
    "                                JOIN [Category] AS c ON p.CategoryID == c.ID\n",
    "                                JOIN [Employee] AS e ON o.EmployeeID == e.ID\"\"\", engine)\n",
    "prod_region.groupby(['Category']).describe()"
   ]
  },
  {
   "cell_type": "code",
   "execution_count": 71,
   "metadata": {},
   "outputs": [
    {
     "data": {
      "image/png": "[encoded data removed]",
      "text/plain": [
       "<Figure size 416.5x360 with 1 Axes>"
      ]
     },
     "metadata": {
      "needs_background": "light"
     },
     "output_type": "display_data"
    }
   ],
   "source": [
    "sns.catplot(x=\"Category\", y=\"Quantity\",kind=\"box\", hue='Country',data=prod_region);\n",
    "plt.setp(plt.xticks()[1], rotation=45);\n",
    "plt.show()"
   ]
  },
  {
   "cell_type": "code",
   "execution_count": 68,
   "metadata": {},
   "outputs": [
    {
     "name": "stdout",
     "output_type": "stream",
     "text": [
      "Fail to reject the Null Hypothesis\n"
     ]
    },
    {
     "data": {
      "text/html": [
       "<div>\n",
       "<style scoped>\n",
       "    .dataframe tbody tr th:only-of-type {\n",
       "        vertical-align: middle;\n",
       "    }\n",
       "\n",
       "    .dataframe tbody tr th {\n",
       "        vertical-align: top;\n",
       "    }\n",
       "\n",
       "    .dataframe thead th {\n",
       "        text-align: right;\n",
       "    }\n",
       "</style>\n",
       "<table border=\"1\" class=\"dataframe\">\n",
       "  <thead>\n",
       "    <tr style=\"text-align: right;\">\n",
       "      <th></th>\n",
       "      <th>df</th>\n",
       "      <th>sum_sq</th>\n",
       "      <th>mean_sq</th>\n",
       "      <th>F</th>\n",
       "      <th>PR(&gt;F)</th>\n",
       "    </tr>\n",
       "  </thead>\n",
       "  <tbody>\n",
       "    <tr>\n",
       "      <th>C(Category)</th>\n",
       "      <td>7.0</td>\n",
       "      <td>1292.377084</td>\n",
       "      <td>184.625298</td>\n",
       "      <td>0.509429</td>\n",
       "      <td>0.828058</td>\n",
       "    </tr>\n",
       "    <tr>\n",
       "      <th>Residual</th>\n",
       "      <td>2147.0</td>\n",
       "      <td>778107.259110</td>\n",
       "      <td>362.416050</td>\n",
       "      <td>NaN</td>\n",
       "      <td>NaN</td>\n",
       "    </tr>\n",
       "  </tbody>\n",
       "</table>\n",
       "</div>"
      ],
      "text/plain": [
       "                 df         sum_sq     mean_sq         F    PR(>F)\n",
       "C(Category)     7.0    1292.377084  184.625298  0.509429  0.828058\n",
       "Residual     2147.0  778107.259110  362.416050       NaN       NaN"
      ]
     },
     "execution_count": 68,
     "metadata": {},
     "output_type": "execute_result"
    }
   ],
   "source": [
    "'''It is worth noting that even when the plot is taking into account the employee's country\n",
    "there are no apparent differences within categories and amongst categories.'''\n",
    "formula = 'Quantity ~ C(Category)'\n",
    "ANOVA(formula,prod_region)"
   ]
  },
  {
   "cell_type": "code",
   "execution_count": null,
   "metadata": {},
   "outputs": [],
   "source": []
  },
  {
   "cell_type": "markdown",
   "metadata": {},
   "source": [
    "## 8. Conclusion and Recommendations"
   ]
  },
  {
   "cell_type": "markdown",
   "metadata": {},
   "source": [
    "## 9. Future Work"
   ]
  },
  {
   "cell_type": "code",
   "execution_count": 60,
   "metadata": {},
   "outputs": [
    {
     "data": {
      "text/html": [
       "<div>\n",
       "<style scoped>\n",
       "    .dataframe tbody tr th:only-of-type {\n",
       "        vertical-align: middle;\n",
       "    }\n",
       "\n",
       "    .dataframe tbody tr th {\n",
       "        vertical-align: top;\n",
       "    }\n",
       "\n",
       "    .dataframe thead th {\n",
       "        text-align: right;\n",
       "    }\n",
       "</style>\n",
       "<table border=\"1\" class=\"dataframe\">\n",
       "  <thead>\n",
       "    <tr style=\"text-align: right;\">\n",
       "      <th></th>\n",
       "      <th>df</th>\n",
       "      <th>sum_sq</th>\n",
       "      <th>mean_sq</th>\n",
       "      <th>F</th>\n",
       "      <th>PR(&gt;F)</th>\n",
       "    </tr>\n",
       "  </thead>\n",
       "  <tbody>\n",
       "    <tr>\n",
       "      <th>C(Country)</th>\n",
       "      <td>1.0</td>\n",
       "      <td>23.189338</td>\n",
       "      <td>23.189338</td>\n",
       "      <td>0.06736</td>\n",
       "      <td>0.795618</td>\n",
       "    </tr>\n",
       "    <tr>\n",
       "      <th>Residual</th>\n",
       "      <td>134.0</td>\n",
       "      <td>46130.781250</td>\n",
       "      <td>344.259562</td>\n",
       "      <td>NaN</td>\n",
       "      <td>NaN</td>\n",
       "    </tr>\n",
       "  </tbody>\n",
       "</table>\n",
       "</div>"
      ],
      "text/plain": [
       "               df        sum_sq     mean_sq        F    PR(>F)\n",
       "C(Country)    1.0     23.189338   23.189338  0.06736  0.795618\n",
       "Residual    134.0  46130.781250  344.259562      NaN       NaN"
      ]
     },
     "execution_count": 60,
     "metadata": {},
     "output_type": "execute_result"
    }
   ],
   "source": [
    "result"
   ]
  },
  {
   "cell_type": "code",
   "execution_count": 23,
   "metadata": {},
   "outputs": [
    {
     "name": "stdout",
     "output_type": "stream",
     "text": [
      "2019-06-07 15:41:19,780 INFO sqlalchemy.engine.base.Engine SELECT * FROM [order]\n",
      "2019-06-07 15:41:19,782 INFO sqlalchemy.engine.base.Engine ()\n"
     ]
    }
   ],
   "source": [
    "df_order = pd.read_sql_query(\"SELECT * FROM [order]\", engine)"
   ]
  },
  {
   "cell_type": "code",
   "execution_count": 24,
   "metadata": {},
   "outputs": [
    {
     "data": {
      "text/plain": [
       "9"
      ]
     },
     "execution_count": 24,
     "metadata": {},
     "output_type": "execute_result"
    }
   ],
   "source": [
    "df_order.ShipRegion.nunique()"
   ]
  },
  {
   "cell_type": "code",
   "execution_count": null,
   "metadata": {},
   "outputs": [],
   "source": []
  }
 ],
 "metadata": {
  "kernelspec": {
   "display_name": "Python 3",
   "language": "python",
   "name": "python3"
  },
  "language_info": {
   "codemirror_mode": {
    "name": "ipython",
    "version": 3
   },
   "file_extension": ".py",
   "mimetype": "text/x-python",
   "name": "python",
   "nbconvert_exporter": "python",
   "pygments_lexer": "ipython3",
   "version": "3.7.1"
  }
 },
 "nbformat": 4,
 "nbformat_minor": 2
}
